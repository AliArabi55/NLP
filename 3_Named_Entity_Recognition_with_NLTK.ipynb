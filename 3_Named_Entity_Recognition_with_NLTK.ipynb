{
  "cells": [
    {
      "cell_type": "markdown",
      "metadata": {
        "id": "view-in-github",
        "colab_type": "text"
      },
      "source": [
        "<a href=\"https://colab.research.google.com/github/AliArabi55/NLP/blob/main/3_Named_Entity_Recognition_with_NLTK.ipynb\" target=\"_parent\"><img src=\"https://colab.research.google.com/assets/colab-badge.svg\" alt=\"Open In Colab\"/></a>"
      ]
    },
    {
      "cell_type": "markdown",
      "metadata": {
        "id": "8QIMuG4m9Kfk"
      },
      "source": [
        "# Named Entity Recognition with NLTK"
      ]
    },
    {
      "cell_type": "markdown",
      "source": [
        "# **Task 5**"
      ],
      "metadata": {
        "id": "J2PD2aqeC_wi"
      }
    },
    {
      "cell_type": "markdown",
      "source": [
        "##Q5:  Perform NER on the following sentence and identify the types of entities (Person, Location, Organization):\n",
        "##Sentence: \"Barack Obama was the president of the United States.\"\n",
        "\n"
      ],
      "metadata": {
        "id": "NUm2SaVsDCJH"
      }
    },
    {
      "cell_type": "code",
      "execution_count": 12,
      "metadata": {
        "id": "zBMpQ1nK9Kfo",
        "outputId": "4fcacc6d-ccb1-4133-be72-c9368fa302e5",
        "colab": {
          "base_uri": "https://localhost:8080/"
        }
      },
      "outputs": [
        {
          "output_type": "stream",
          "name": "stderr",
          "text": [
            "[nltk_data] Downloading package maxent_ne_chunker to\n",
            "[nltk_data]     /root/nltk_data...\n",
            "[nltk_data]   Package maxent_ne_chunker is already up-to-date!\n",
            "[nltk_data] Downloading package words to /root/nltk_data...\n",
            "[nltk_data]   Package words is already up-to-date!\n",
            "[nltk_data] Downloading package punkt to /root/nltk_data...\n",
            "[nltk_data]   Package punkt is already up-to-date!\n",
            "[nltk_data] Downloading package averaged_perceptron_tagger to\n",
            "[nltk_data]     /root/nltk_data...\n",
            "[nltk_data]   Unzipping taggers/averaged_perceptron_tagger.zip.\n"
          ]
        },
        {
          "output_type": "execute_result",
          "data": {
            "text/plain": [
              "True"
            ]
          },
          "metadata": {},
          "execution_count": 12
        }
      ],
      "source": [
        "import nltk\n",
        "\n",
        "# Download necessary NLTK resources (only required once)\n",
        "nltk.download('maxent_ne_chunker')\n",
        "nltk.download('words')\n",
        "nltk.download('punkt') # Download the punkt resource\n",
        "nltk.download('averaged_perceptron_tagger') # Download the averaged_perceptron_tagger resource"
      ]
    },
    {
      "cell_type": "code",
      "execution_count": 15,
      "metadata": {
        "id": "xiIkfXWW9Kfs"
      },
      "outputs": [],
      "source": [
        "from nltk import ne_chunk\n",
        "from nltk.tokenize import word_tokenize\n",
        "\n",
        "# Sample text for demonstration\n",
        "text = \"Barack Obama was the president of the United States.\"\n",
        "\n",
        "# Tokenize the text into words\n",
        "tokens = word_tokenize(text)"
      ]
    },
    {
      "cell_type": "code",
      "execution_count": 16,
      "metadata": {
        "id": "cg5-69KE9Kft",
        "outputId": "aa21ee52-31fc-4a4c-c041-dcd62fbba8e3",
        "colab": {
          "base_uri": "https://localhost:8080/"
        }
      },
      "outputs": [
        {
          "output_type": "stream",
          "name": "stdout",
          "text": [
            "Entity: Barack | Type: PERSON\n",
            "Entity: Obama | Type: PERSON\n",
            "Entity: United States | Type: GPE\n"
          ]
        }
      ],
      "source": [
        "# Apply NER using NLTK's pre-trained models\n",
        "ner_tags = ne_chunk(nltk.pos_tag(tokens))\n",
        "\n",
        "# Print the named entities\n",
        "for chunk in ner_tags:\n",
        "    if hasattr(chunk, 'label'):\n",
        "        print(f\"Entity: {' '.join(c[0] for c in chunk)} | Type: {chunk.label()}\")"
      ]
    },
    {
      "cell_type": "code",
      "source": [],
      "metadata": {
        "id": "T6cRIIF5E6sl"
      },
      "execution_count": null,
      "outputs": []
    }
  ],
  "metadata": {
    "kernelspec": {
      "display_name": "base",
      "language": "python",
      "name": "python3"
    },
    "language_info": {
      "codemirror_mode": {
        "name": "ipython",
        "version": 3
      },
      "file_extension": ".py",
      "mimetype": "text/x-python",
      "name": "python",
      "nbconvert_exporter": "python",
      "pygments_lexer": "ipython3",
      "version": "3.9.7"
    },
    "colab": {
      "provenance": [],
      "include_colab_link": true
    }
  },
  "nbformat": 4,
  "nbformat_minor": 0
}